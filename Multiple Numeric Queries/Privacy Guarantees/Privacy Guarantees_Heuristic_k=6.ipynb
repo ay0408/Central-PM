{
 "cells": [
  {
   "cell_type": "code",
   "execution_count": 1,
   "metadata": {},
   "outputs": [],
   "source": [
    "import numpy as np\n",
    "import math\n",
    "import matplotlib.pyplot as plt\n",
    "from scipy.optimize import minimize\n",
    "import random\n",
    "import warnings; warnings.simplefilter('ignore')"
   ]
  },
  {
   "cell_type": "code",
   "execution_count": 2,
   "metadata": {},
   "outputs": [],
   "source": [
    "def SubOptimal(eps,m,p_eps1):\n",
    "    k = 2\n",
    "    \n",
    "    tild_sensitivity = np.zeros(k+1)\n",
    "    for j in range(1,k+1):\n",
    "        tild_sensitivity[j] = 2/(m[j]+1)\n",
    "        \n",
    "    b = np.zeros(k+1)\n",
    "    for j in range(1,k+1):\n",
    "        A = tild_sensitivity[j]*(math.exp(eps[j])*(math.exp(m[j]*eps[j])-1)/(math.exp(eps[j])-1))\n",
    "        B = (1 + m[j]*tild_sensitivity[j])*math.exp((m[j]+1)*eps[j])\n",
    "        U = eps[j]/math.log((A + math.sqrt(A**2 + 4*B))/2)\n",
    "        b[j] = ((m[j]+3)/(m[j]+4))*U\n",
    "        \n",
    "    X = np.zeros(k+1)\n",
    "    Y = np.zeros((k+1,max(m)+2))\n",
    "    for j in range(1,k+1):\n",
    "        q = (math.exp(eps[j]/b[j])/(2*((math.exp(eps[j]/b[j])+1)**2)*(math.exp(eps[j])-1)))*((math.exp(eps[j])-1)*(math.exp((m[j]+1)*eps[j])-1)-tild_sensitivity[j]*(math.exp(eps[j])/math.exp(eps[j]/b[j]))*(m[j]*math.exp((m[j]+1)*eps[j])-(m[j]+1)*math.exp(m[j]*eps[j])+1))\n",
    "        X[j] = math.exp((m[j]+1)*eps[j])/(2*q*(math.exp(eps[j]/b[j])+1))\n",
    "        for i in range(1,m[j]+2):\n",
    "            Y[j][i] = (1/(2*q))*(math.exp(eps[j]/b[j])/(math.exp(eps[j]/b[j])+1))*(1+tild_sensitivity[j]*(math.exp(eps[j])/math.exp(eps[j]/b[j]))*((m[j]+1-i)*math.exp(m[j]*eps[j])-(math.exp(m[j]*eps[j])-1)/(math.exp(eps[j])-1)))\n",
    "        \n",
    "    d = np.zeros((k+1,max(m)+2))\n",
    "    for j in range(1,k+1):\n",
    "        d[j][0] = 2*X[j]\n",
    "        for i in range(1,m[j]+1):\n",
    "            d[j][i] = 2*(Y[j][i]-Y[j][i+1])\n",
    "        d[j][m[j]+1] = 2*Y[j][m[j]+1]\n",
    "    #print(d)\n",
    "    \n",
    "    N = np.zeros((m[1]+2,m[2]+2))\n",
    "    for i in range(m[1]+2):\n",
    "        for j in range(m[2]+2):\n",
    "            N[i][j] = d[1][i]*d[2][j]\n",
    "    #print(N)\n",
    "    \n",
    "    p0 = np.ones(2*m[1]+2*m[2]+5)*(1/(2*m[1]+2*m[2]+4))\n",
    "    p0[2*m[1]+2*m[2]+4] = math.exp(np.sum(eps))\n",
    "    fun = lambda p: p[2*m[1]+2*m[2]+4]\n",
    "    \n",
    "    cons = ()\n",
    "    cons = cons + ({'type': 'eq', 'fun': lambda p: np.sum(p[i] for i in range(2*m[1]+2*m[2]+4)) + np.sum(p[m[1]+j]*(N[m[1]-i][j]/N[m[1]][j])*(1/math.exp(p_eps1*i)) for i in range(1,m[1]+1) for j in range(m[2])) - 1},)\n",
    "    cons = cons + ({'type': 'eq', 'fun': lambda p: p[0] + p[m[1]+m[2]+1] + np.sum(p[m[1]+j]*(N[0][j]/N[m[1]][j])*(1/math.exp(p_eps1*m[1])) for j in range(m[2])) - 1/(math.exp(eps[1]/b[1])+1)},)\n",
    "    for i in range(1,m[1]):\n",
    "        cons = cons + ({'type': 'eq', 'fun': lambda p, i=i: p[i] + p[m[1]+m[2]+1+i] + np.sum(p[m[1]+j]*(N[i][j]/N[m[1]][j])*(1/math.exp(p_eps1*(m[1]-i))) for j in range(m[2])) - tild_sensitivity[1]*(math.exp(i*eps[1])/(math.exp(eps[1]/b[1])+1))},)\n",
    "    cons = cons + ({'type': 'eq', 'fun': lambda p: np.sum(p[i] for i in range(m[1],m[1]+m[2]+1)) + p[2*m[1]+m[2]+1] - tild_sensitivity[1]*(math.exp(m[1]*eps[1])/(math.exp(eps[1]/b[1])+1))},)\n",
    "    cons = cons + ({'type': 'eq', 'fun': lambda p: np.sum(p[m[1]]*(N[i][0]/N[m[1]][0])*(1/math.exp(p_eps1*(m[1]-i))) for i in range(m[1]+1)) + p[2*m[1]+m[2]+2] - 1/(math.exp(eps[2]/b[2])+1)},)\n",
    "    for j in range(1,m[2]):\n",
    "        cons = cons + ({'type': 'eq', 'fun': lambda p, j=j: np.sum(p[m[1]+j]*(N[i][j]/N[m[1]][j])*(1/math.exp(p_eps1*(m[1]-i))) for i in range(m[1]+1)) + p[2*m[1]+m[2]+2+j] - tild_sensitivity[2]*(math.exp(j*eps[2])/(math.exp(eps[2]/b[2])+1))},)\n",
    "    cons = cons + ({'type': 'eq', 'fun': lambda p: np.sum(p[i] for i in range(m[1])) + p[m[1]+m[2]] + p[2*m[1]+2*m[2]+2] - tild_sensitivity[2]*(math.exp(m[2]*eps[2])/(math.exp(eps[2]/b[2])+1))},)\n",
    "    \n",
    "    for i in range(m[1]):\n",
    "        cons = cons + ({'type': 'ineq', 'fun': lambda p, i=i: (p[i]/N[i][m[2]]) - (p[m[1]+m[2]-1]/N[m[1]][m[2]-1])*(1/math.exp(p_eps1*(m[1]-i)))},)\n",
    "        cons = cons + ({'type': 'ineq', 'fun': lambda p, i=i: (p[m[1]+m[2]+1+i]/N[i][m[2]+1]) - (p[i]/N[i][m[2]])},)\n",
    "    for i in range(m[1]-1):\n",
    "        cons = cons + ({'type': 'ineq', 'fun': lambda p, i=i: (p[i+1]/N[i+1][m[2]]) - (p[i]/N[i][m[2]])},)\n",
    "        cons = cons + ({'type': 'ineq', 'fun': lambda p, i=i: (p[m[1]+m[2]+2+i]/N[i+1][m[2]+1]) - (p[m[1]+m[2]+1+i]/N[i][m[2]+1])},)\n",
    "    cons = cons + ({'type': 'ineq', 'fun': lambda p: (p[m[1]+m[2]]/N[m[1]][m[2]]) - (p[m[1]-1]/N[m[1]-1][m[2]])},)\n",
    "    cons = cons + ({'type': 'ineq', 'fun': lambda p: (p[2*m[1]+m[2]+1]/N[m[1]][m[2]+1]) - (p[2*m[1]+m[2]]/N[m[1]-1][m[2]+1])},)\n",
    "    for j in range(m[2]):\n",
    "        cons = cons + ({'type': 'ineq', 'fun': lambda p, j=j: (p[m[1]+j+1]/N[m[1]][j+1]) - (p[m[1]+j]/N[m[1]][j])},)\n",
    "        cons = cons + ({'type': 'ineq', 'fun': lambda p, j=j: (p[2*m[1]+m[2]+3+j]/N[m[1]+1][j+1]) - (p[2*m[1]+m[2]+2+j]/N[m[1]+1][j])},)\n",
    "        cons = cons + ({'type': 'ineq', 'fun': lambda p, j=j: (p[2*m[1]+m[2]+2+j]/N[m[1]+1][j]) - (p[m[1]+j]/N[m[1]][j])},)\n",
    "    cons = cons + ({'type': 'ineq', 'fun': lambda p: (p[2*m[1]+m[2]+1]/N[m[1]][m[2]+1]) - (p[m[1]+m[2]]/N[m[1]][m[2]])},)\n",
    "    cons = cons + ({'type': 'ineq', 'fun': lambda p: (p[2*m[1]+2*m[2]+2]/N[m[1]+1][m[2]]) - (p[m[1]+m[2]]/N[m[1]][m[2]])},)\n",
    "    cons = cons + ({'type': 'ineq', 'fun': lambda p: (p[2*m[1]+2*m[2]+3]/N[m[1]+1][m[2]+1]) - (p[2*m[1]+m[2]+1]/N[m[1]][m[2]+1])},)\n",
    "    cons = cons + ({'type': 'ineq', 'fun': lambda p: (p[2*m[1]+2*m[2]+3]/N[m[1]+1][m[2]+1]) - (p[2*m[1]+2*m[2]+2]/N[m[1]+1][m[2]])},)\n",
    "    \n",
    "    for i in range(m[1]-1):\n",
    "        cons = cons + ({'type': 'ineq', 'fun': lambda p, i=i: p[2*m[1]+2*m[2]+4] - math.exp(p_eps1*(m[1]-i))*((p[i+1]/N[i+1][m[2]])/(p[m[1]+m[2]-1]/N[m[1]][m[2]-1]))},)\n",
    "        cons = cons + ({'type': 'ineq', 'fun': lambda p, i=i: p[2*m[1]+2*m[2]+4] - (p[m[1]+m[2]+2+i]/N[i+1][m[2]+1])/(p[i]/N[i][m[2]])},)\n",
    "    for j in range(m[2]):\n",
    "        cons = cons + ({'type': 'ineq', 'fun': lambda p, j=j: p[2*m[1]+2*m[2]+4] - math.exp(p_eps1)*((p[m[1]+j+1]/N[m[1]][j+1])/(p[m[1]+j]/N[m[1]][j]))},)\n",
    "        cons = cons + ({'type': 'ineq', 'fun': lambda p, j=j: p[2*m[1]+2*m[2]+4] - (p[2*m[1]+m[2]+3+j]/N[m[1]+1][j+1])/(p[m[1]+j]/N[m[1]][j])},)\n",
    "    cons = cons + ({'type': 'ineq', 'fun': lambda p: p[2*m[1]+2*m[2]+4] - (p[2*m[1]+m[2]+1]/N[m[1]][m[2]+1])/(p[m[1]-1]/N[m[1]-1][m[2]])},)\n",
    "    cons = cons + ({'type': 'ineq', 'fun': lambda p: p[2*m[1]+2*m[2]+4] - (p[2*m[1]+2*m[2]+3]/N[m[1]+1][m[2]+1])/(p[m[1]+m[2]]/N[m[1]][m[2]])},)\n",
    "        \n",
    "    \n",
    "    bnds = [(0,1)]*(2*m[1]+2*m[2]+5)\n",
    "    bnds[2*m[1]+2*m[2]+4] = (0,np.inf)\n",
    "    \n",
    "    res = minimize(fun, p0, bounds=bnds, constraints=cons)\n",
    "    if res.message == 'Inequality constraints incompatible' or res.fun < math.exp(p_eps1):\n",
    "        return math.exp(np.sum(eps)), [100,100]\n",
    "    else:\n",
    "        return res.fun, res.x"
   ]
  },
  {
   "cell_type": "code",
   "execution_count": 3,
   "metadata": {},
   "outputs": [],
   "source": [
    "def evaluation(k):\n",
    "    k = 6\n",
    "    aeps = [2, 2.5, 3, 3.5, 4, 4.5, 5]\n",
    "    s = np.zeros(7); p = np.zeros((7,2)); r = 50\n",
    "    \n",
    "    eps = np.zeros(k+1); m = [0,5,5,5,5,5,5]\n",
    "    for i in range(7):\n",
    "        s[i] = aeps[i]*k\n",
    "        for j in range(r):\n",
    "            for l in range(1,k+1):\n",
    "                eps[l] = random.random()\n",
    "            eps = [eps[l]*s[i]/(sum(eps)) for l in range(k+1)]\n",
    "            p[i][0] += 1\n",
    "            privacy = s[i]\n",
    "            sp1 = eps[1]+eps[2]; sp3 = eps[3]+eps[4]\n",
    "            for J in range(21):\n",
    "                p_eps1 = eps[1]*(80+J)*0.01\n",
    "                M = SubOptimal(eps[0:3],m[0:3],p_eps1)\n",
    "                if M[1][0] != 100:\n",
    "                    sp1 = min(sp1, math.log(M[0]))\n",
    "            for J in range(21):\n",
    "                p_eps3 = eps[3]*(80+J)*0.01\n",
    "                M = SubOptimal([0,eps[3],eps[4]],[0,m[3],m[4]],p_eps3)\n",
    "                if M[1][0] != 100:\n",
    "                    sp3 = min(sp3, math.log(M[0]))\n",
    "            for J in range(21):\n",
    "                p_eps5 = eps[5]*(80+J)*0.01\n",
    "                M = SubOptimal([0,eps[5],eps[6]],[0,m[5],m[6]],p_eps5)\n",
    "                if M[1][0] != 100:\n",
    "                    privacy = min(privacy, sp1 + sp3 + min(eps[5]+eps[6],math.log(M[0])))\n",
    "            p[i][1] += privacy/s[i]\n",
    "        p[i][0] /= r\n",
    "        p[i][1] /= r\n",
    "    \n",
    "    return p"
   ]
  },
  {
   "cell_type": "code",
   "execution_count": 4,
   "metadata": {},
   "outputs": [
    {
     "name": "stdout",
     "output_type": "stream",
     "text": [
      "[[1.         0.91465449]\n",
      " [1.         0.9097563 ]\n",
      " [1.         0.91332332]\n",
      " [1.         0.92342337]\n",
      " [1.         0.88855371]\n",
      " [1.         0.87020091]\n",
      " [1.         0.90468924]]\n"
     ]
    },
    {
     "name": "stderr",
     "output_type": "stream",
     "text": [
      "The PostScript backend does not support transparency; partially transparent artists will be rendered opaque.\n",
      "The PostScript backend does not support transparency; partially transparent artists will be rendered opaque.\n"
     ]
    },
    {
     "data": {
      "image/png": "[encoded data removed]",
      "text/plain": [
       "<Figure size 432x288 with 1 Axes>"
      ]
     },
     "metadata": {
      "needs_background": "light"
     },
     "output_type": "display_data"
    }
   ],
   "source": [
    "k = 6\n",
    "p = evaluation(k)\n",
    "print(p)\n",
    "\n",
    "s = [2, 2.5, 3, 3.5, 4, 4.5, 5]\n",
    "\n",
    "fig = plt.figure()\n",
    "plt.ylim(-0.01, 1.1)\n",
    "plt.axhline(1, ls=\"--\",color=\"gray\")\n",
    "plt.plot(s,p[:,0],marker=\"x\",color=\"black\",linestyle = \"dashdot\",label=\"Baseline\")\n",
    "plt.plot(s,p[:,1],marker=\"s\",color=\"blue\",linestyle = \"dashed\",label=\"Heuristic\")\n",
    "plt.legend(bbox_to_anchor=(0.49, 1.02), loc='lower center', borderaxespad=0, ncol=3, fontsize=11.5)\n",
    "plt.xlabel(\"Average of Privacy Levels\" r\"$= \\, \\frac{1}{k} \\, \\sum_i \\, \\epsilon_i$\",fontsize=14)\n",
    "fig.savefig(\"Privacy_Heuristic_k=6.png\")\n",
    "fig.savefig(\"figs/Privacy_Heuristic_k=6.eps\", bbox_inches=\"tight\", pad_inches=0.05)"
   ]
  },
  {
   "cell_type": "code",
   "execution_count": null,
   "metadata": {},
   "outputs": [],
   "source": []
  }
 ],
 "metadata": {
  "kernelspec": {
   "display_name": "Python 3",
   "language": "python",
   "name": "python3"
  },
  "language_info": {
   "codemirror_mode": {
    "name": "ipython",
    "version": 3
   },
   "file_extension": ".py",
   "mimetype": "text/x-python",
   "name": "python",
   "nbconvert_exporter": "python",
   "pygments_lexer": "ipython3",
   "version": "3.9.0"
  }
 },
 "nbformat": 4,
 "nbformat_minor": 4
}
